{
 "cells": [
  {
   "cell_type": "markdown",
   "metadata": {},
   "source": [
    "# Data-Science --date 12/9/2k19 --network localhost\n",
    "# AAKASH-PADHIYAR  --contact --email iampythonistas@gmail.com --anotherGITHUB www.github.com/8140171224\n",
    "# IKNOW --language python javascript dart c-language  --website HTML CSS BOOTSTRAP  --frameworks DJANGO FLUTTER FLASK & more"
   ]
  },
  {
   "cell_type": "code",
   "execution_count": null,
   "metadata": {},
   "outputs": [],
   "source": []
  }
 ],
 "metadata": {
  "kernelspec": {
   "display_name": "Python 3",
   "language": "python",
   "name": "python3"
  },
  "language_info": {
   "codemirror_mode": {
    "name": "ipython",
    "version": 3
   },
   "file_extension": ".py",
   "mimetype": "text/x-python",
   "name": "python",
   "nbconvert_exporter": "python",
   "pygments_lexer": "ipython3",
   "version": "3.7.3"
  }
 },
 "nbformat": 4,
 "nbformat_minor": 2
}
