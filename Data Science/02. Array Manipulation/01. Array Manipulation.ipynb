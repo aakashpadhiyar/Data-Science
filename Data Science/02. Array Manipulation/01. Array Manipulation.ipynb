{
 "cells": [
  {
   "cell_type": "markdown",
   "metadata": {},
   "source": [
    "# Array Manipulation Routines"
   ]
  },
  {
   "cell_type": "code",
   "execution_count": 7,
   "metadata": {},
   "outputs": [
    {
     "name": "stdout",
     "output_type": "stream",
     "text": [
      "[0 1 2 3 4 5]\n"
     ]
    }
   ],
   "source": [
    "import numpy as np\n",
    "x = np.arange(6)\n",
    "print(x)"
   ]
  },
  {
   "cell_type": "code",
   "execution_count": 8,
   "metadata": {},
   "outputs": [
    {
     "name": "stdout",
     "output_type": "stream",
     "text": [
      "[[0 1]\n",
      " [2 3]\n",
      " [4 5]]\n"
     ]
    }
   ],
   "source": [
    "y = x.reshape((3, 2))\n",
    "print(y)"
   ]
  },
  {
   "cell_type": "code",
   "execution_count": 9,
   "metadata": {},
   "outputs": [
    {
     "name": "stdout",
     "output_type": "stream",
     "text": [
      "[[0 1 2]\n",
      " [3 4 5]]\n"
     ]
    }
   ],
   "source": [
    "x = np.array([[0, 1, 2], [3, 4, 5]], dtype = np.uint8)\n",
    "print(x)"
   ]
  },
  {
   "cell_type": "code",
   "execution_count": 10,
   "metadata": {},
   "outputs": [
    {
     "name": "stdout",
     "output_type": "stream",
     "text": [
      "[0 1 2 3 4 5]\n"
     ]
    }
   ],
   "source": [
    "y = np.reshape(x , 6)\n",
    "print(y)"
   ]
  },
  {
   "cell_type": "code",
   "execution_count": 11,
   "metadata": {},
   "outputs": [
    {
     "name": "stdout",
     "output_type": "stream",
     "text": [
      "[[0 1 2]\n",
      " [3 4 5]]\n"
     ]
    }
   ],
   "source": [
    "print(x)"
   ]
  },
  {
   "cell_type": "code",
   "execution_count": 12,
   "metadata": {},
   "outputs": [
    {
     "name": "stdout",
     "output_type": "stream",
     "text": [
      "[0 1 2 3 4 5]\n"
     ]
    }
   ],
   "source": [
    "y = np.ravel(x)\n",
    "print(y)"
   ]
  },
  {
   "cell_type": "code",
   "execution_count": 13,
   "metadata": {},
   "outputs": [
    {
     "name": "stdout",
     "output_type": "stream",
     "text": [
      "[[0 1 2]\n",
      " [3 4 5]]\n"
     ]
    }
   ],
   "source": [
    "print(x)"
   ]
  },
  {
   "cell_type": "code",
   "execution_count": 14,
   "metadata": {},
   "outputs": [
    {
     "name": "stdout",
     "output_type": "stream",
     "text": [
      "[0 1 2 3 4 5]\n"
     ]
    }
   ],
   "source": [
    "y = x.flatten()\n",
    "print(y)"
   ]
  },
  {
   "cell_type": "code",
   "execution_count": 15,
   "metadata": {},
   "outputs": [
    {
     "name": "stdout",
     "output_type": "stream",
     "text": [
      "[0 1 2 3 4 5]\n"
     ]
    }
   ],
   "source": [
    "y = x.flatten('C')\n",
    "print(y)"
   ]
  },
  {
   "cell_type": "code",
   "execution_count": 16,
   "metadata": {},
   "outputs": [
    {
     "name": "stdout",
     "output_type": "stream",
     "text": [
      "[0 3 1 4 2 5]\n"
     ]
    }
   ],
   "source": [
    "y = x.flatten('F')\n",
    "print(y)"
   ]
  },
  {
   "cell_type": "code",
   "execution_count": 18,
   "metadata": {},
   "outputs": [
    {
     "name": "stdout",
     "output_type": "stream",
     "text": [
      "uint8\n",
      "[1 2 3]\n",
      "[4 5 6]\n"
     ]
    }
   ],
   "source": [
    "x = np.array([1, 2, 3], dtype = np.uint8)\n",
    "y = np.array([4, 5 , 6], dtype = np.uint8)\n",
    "\n",
    "print(x.dtype)\n",
    "\n",
    "print(x)\n",
    "print(y)"
   ]
  },
  {
   "cell_type": "code",
   "execution_count": 20,
   "metadata": {},
   "outputs": [
    {
     "name": "stdout",
     "output_type": "stream",
     "text": [
      "[1 2 3]\n"
     ]
    }
   ],
   "source": [
    "z = np.stack((x, y))\n",
    "print(x)"
   ]
  },
  {
   "cell_type": "code",
   "execution_count": 27,
   "metadata": {},
   "outputs": [
    {
     "name": "stdout",
     "output_type": "stream",
     "text": [
      "[[1 2 3]\n",
      " [4 5 6]]\n"
     ]
    }
   ],
   "source": [
    "z = np.stack((x, y), axis = 0)\n",
    "print(z)"
   ]
  },
  {
   "cell_type": "code",
   "execution_count": 28,
   "metadata": {},
   "outputs": [
    {
     "name": "stdout",
     "output_type": "stream",
     "text": [
      "[[1 4]\n",
      " [2 5]\n",
      " [3 6]]\n"
     ]
    }
   ],
   "source": [
    "z = np.stack((x, y), axis = -1)\n",
    "print(z)"
   ]
  },
  {
   "cell_type": "code",
   "execution_count": 29,
   "metadata": {},
   "outputs": [
    {
     "name": "stdout",
     "output_type": "stream",
     "text": [
      "[[1 4]\n",
      " [2 5]\n",
      " [3 6]]\n"
     ]
    }
   ],
   "source": [
    "z = np.stack((x, y), axis = 1)\n",
    "print(z)"
   ]
  },
  {
   "cell_type": "code",
   "execution_count": 24,
   "metadata": {},
   "outputs": [
    {
     "name": "stdout",
     "output_type": "stream",
     "text": [
      "[1 2 3]\n",
      "[4 5 6]\n"
     ]
    }
   ],
   "source": [
    "print(x)\n",
    "print(y)"
   ]
  },
  {
   "cell_type": "code",
   "execution_count": 26,
   "metadata": {},
   "outputs": [
    {
     "name": "stdout",
     "output_type": "stream",
     "text": [
      "[[[1 4]\n",
      "  [2 5]\n",
      "  [3 6]]]\n"
     ]
    }
   ],
   "source": [
    "z = np.dstack((x, y))\n",
    "print(z)"
   ]
  },
  {
   "cell_type": "code",
   "execution_count": 30,
   "metadata": {},
   "outputs": [
    {
     "name": "stdout",
     "output_type": "stream",
     "text": [
      "[[1 4]\n",
      " [2 5]\n",
      " [3 6]]\n"
     ]
    }
   ],
   "source": [
    "z = np.stack((x, y), axis = -1)\n",
    "print(z)"
   ]
  },
  {
   "cell_type": "code",
   "execution_count": 31,
   "metadata": {},
   "outputs": [
    {
     "name": "stdout",
     "output_type": "stream",
     "text": [
      "(3, 2)\n"
     ]
    }
   ],
   "source": [
    "print(z.shape)"
   ]
  },
  {
   "cell_type": "code",
   "execution_count": 33,
   "metadata": {},
   "outputs": [
    {
     "name": "stdout",
     "output_type": "stream",
     "text": [
      "[1 2 3 4 5 6]\n"
     ]
    }
   ],
   "source": [
    "z = np.hstack((x, y))\n",
    "print(z)"
   ]
  },
  {
   "cell_type": "code",
   "execution_count": 34,
   "metadata": {},
   "outputs": [
    {
     "name": "stdout",
     "output_type": "stream",
     "text": [
      "[[1 2 3]\n",
      " [4 5 6]]\n"
     ]
    }
   ],
   "source": [
    "z = np.vstack((x, y))\n",
    "print(z)"
   ]
  },
  {
   "cell_type": "code",
   "execution_count": 35,
   "metadata": {},
   "outputs": [
    {
     "name": "stdout",
     "output_type": "stream",
     "text": [
      "[0 1 2 3 4 5 6 7 8]\n"
     ]
    }
   ],
   "source": [
    "x = np.arange(9)\n",
    "print(x)"
   ]
  },
  {
   "cell_type": "code",
   "execution_count": 37,
   "metadata": {},
   "outputs": [
    {
     "name": "stdout",
     "output_type": "stream",
     "text": [
      "[0 1 2] [3 4 5] [6 7 8]\n"
     ]
    }
   ],
   "source": [
    "a, b, c = np.split(x, 3)\n",
    "print(a, b, c)"
   ]
  },
  {
   "cell_type": "code",
   "execution_count": 38,
   "metadata": {},
   "outputs": [
    {
     "name": "stdout",
     "output_type": "stream",
     "text": [
      "[[[0.11725438 0.26029089 0.65428219 0.9089001 ]\n",
      "  [0.40823838 0.69764766 0.26389687 0.67372486]\n",
      "  [0.65372432 0.02072366 0.51274151 0.63252549]\n",
      "  [0.17841473 0.70968969 0.77212603 0.16508572]]\n",
      "\n",
      " [[0.26876834 0.37662725 0.22796468 0.95519362]\n",
      "  [0.19253762 0.78628132 0.6773324  0.82011374]\n",
      "  [0.858922   0.48738009 0.17506944 0.23180879]\n",
      "  [0.53345859 0.76365733 0.02262287 0.7037336 ]]\n",
      "\n",
      " [[0.91507863 0.54014035 0.73162109 0.2508354 ]\n",
      "  [0.4233048  0.07995287 0.58637087 0.07373773]\n",
      "  [0.36056569 0.22140659 0.90888542 0.42910244]\n",
      "  [0.16700043 0.81417469 0.45600404 0.78627084]]\n",
      "\n",
      " [[0.45617148 0.88539758 0.46453519 0.23573944]\n",
      "  [0.20859856 0.24148752 0.92052159 0.89974893]\n",
      "  [0.3732446  0.68933972 0.25029976 0.23328349]\n",
      "  [0.0330443  0.19215522 0.10869702 0.66119546]]]\n"
     ]
    }
   ],
   "source": [
    "x = np.random.rand(4, 4, 4)\n",
    "print(x)"
   ]
  },
  {
   "cell_type": "code",
   "execution_count": 39,
   "metadata": {},
   "outputs": [
    {
     "name": "stdout",
     "output_type": "stream",
     "text": [
      "[[[0.11725438 0.26029089 0.65428219 0.9089001 ]\n",
      "  [0.40823838 0.69764766 0.26389687 0.67372486]\n",
      "  [0.65372432 0.02072366 0.51274151 0.63252549]\n",
      "  [0.17841473 0.70968969 0.77212603 0.16508572]]\n",
      "\n",
      " [[0.26876834 0.37662725 0.22796468 0.95519362]\n",
      "  [0.19253762 0.78628132 0.6773324  0.82011374]\n",
      "  [0.858922   0.48738009 0.17506944 0.23180879]\n",
      "  [0.53345859 0.76365733 0.02262287 0.7037336 ]]] [[[0.91507863 0.54014035 0.73162109 0.2508354 ]\n",
      "  [0.4233048  0.07995287 0.58637087 0.07373773]\n",
      "  [0.36056569 0.22140659 0.90888542 0.42910244]\n",
      "  [0.16700043 0.81417469 0.45600404 0.78627084]]\n",
      "\n",
      " [[0.45617148 0.88539758 0.46453519 0.23573944]\n",
      "  [0.20859856 0.24148752 0.92052159 0.89974893]\n",
      "  [0.3732446  0.68933972 0.25029976 0.23328349]\n",
      "  [0.0330443  0.19215522 0.10869702 0.66119546]]]\n"
     ]
    }
   ],
   "source": [
    "y, z = np.split(x, 2)\n",
    "print(y, z)"
   ]
  },
  {
   "cell_type": "code",
   "execution_count": 40,
   "metadata": {},
   "outputs": [
    {
     "name": "stdout",
     "output_type": "stream",
     "text": [
      "[[[0.11725438 0.26029089]\n",
      "  [0.40823838 0.69764766]\n",
      "  [0.65372432 0.02072366]\n",
      "  [0.17841473 0.70968969]]\n",
      "\n",
      " [[0.26876834 0.37662725]\n",
      "  [0.19253762 0.78628132]\n",
      "  [0.858922   0.48738009]\n",
      "  [0.53345859 0.76365733]]\n",
      "\n",
      " [[0.91507863 0.54014035]\n",
      "  [0.4233048  0.07995287]\n",
      "  [0.36056569 0.22140659]\n",
      "  [0.16700043 0.81417469]]\n",
      "\n",
      " [[0.45617148 0.88539758]\n",
      "  [0.20859856 0.24148752]\n",
      "  [0.3732446  0.68933972]\n",
      "  [0.0330443  0.19215522]]] [[[0.65428219 0.9089001 ]\n",
      "  [0.26389687 0.67372486]\n",
      "  [0.51274151 0.63252549]\n",
      "  [0.77212603 0.16508572]]\n",
      "\n",
      " [[0.22796468 0.95519362]\n",
      "  [0.6773324  0.82011374]\n",
      "  [0.17506944 0.23180879]\n",
      "  [0.02262287 0.7037336 ]]\n",
      "\n",
      " [[0.73162109 0.2508354 ]\n",
      "  [0.58637087 0.07373773]\n",
      "  [0.90888542 0.42910244]\n",
      "  [0.45600404 0.78627084]]\n",
      "\n",
      " [[0.46453519 0.23573944]\n",
      "  [0.92052159 0.89974893]\n",
      "  [0.25029976 0.23328349]\n",
      "  [0.10869702 0.66119546]]]\n"
     ]
    }
   ],
   "source": [
    "y, z = np.dsplit(x, 2)\n",
    "print(y, z)"
   ]
  },
  {
   "cell_type": "code",
   "execution_count": 41,
   "metadata": {},
   "outputs": [
    {
     "name": "stdout",
     "output_type": "stream",
     "text": [
      "[[[0.11725438 0.26029089 0.65428219 0.9089001 ]\n",
      "  [0.40823838 0.69764766 0.26389687 0.67372486]]\n",
      "\n",
      " [[0.26876834 0.37662725 0.22796468 0.95519362]\n",
      "  [0.19253762 0.78628132 0.6773324  0.82011374]]\n",
      "\n",
      " [[0.91507863 0.54014035 0.73162109 0.2508354 ]\n",
      "  [0.4233048  0.07995287 0.58637087 0.07373773]]\n",
      "\n",
      " [[0.45617148 0.88539758 0.46453519 0.23573944]\n",
      "  [0.20859856 0.24148752 0.92052159 0.89974893]]] [[[0.65372432 0.02072366 0.51274151 0.63252549]\n",
      "  [0.17841473 0.70968969 0.77212603 0.16508572]]\n",
      "\n",
      " [[0.858922   0.48738009 0.17506944 0.23180879]\n",
      "  [0.53345859 0.76365733 0.02262287 0.7037336 ]]\n",
      "\n",
      " [[0.36056569 0.22140659 0.90888542 0.42910244]\n",
      "  [0.16700043 0.81417469 0.45600404 0.78627084]]\n",
      "\n",
      " [[0.3732446  0.68933972 0.25029976 0.23328349]\n",
      "  [0.0330443  0.19215522 0.10869702 0.66119546]]]\n"
     ]
    }
   ],
   "source": [
    "y, z = np.hsplit(x, 2)\n",
    "print(y, z)"
   ]
  },
  {
   "cell_type": "code",
   "execution_count": 42,
   "metadata": {},
   "outputs": [
    {
     "name": "stdout",
     "output_type": "stream",
     "text": [
      "[[[0.11725438 0.26029089 0.65428219 0.9089001 ]\n",
      "  [0.40823838 0.69764766 0.26389687 0.67372486]\n",
      "  [0.65372432 0.02072366 0.51274151 0.63252549]\n",
      "  [0.17841473 0.70968969 0.77212603 0.16508572]]\n",
      "\n",
      " [[0.26876834 0.37662725 0.22796468 0.95519362]\n",
      "  [0.19253762 0.78628132 0.6773324  0.82011374]\n",
      "  [0.858922   0.48738009 0.17506944 0.23180879]\n",
      "  [0.53345859 0.76365733 0.02262287 0.7037336 ]]] [[[0.91507863 0.54014035 0.73162109 0.2508354 ]\n",
      "  [0.4233048  0.07995287 0.58637087 0.07373773]\n",
      "  [0.36056569 0.22140659 0.90888542 0.42910244]\n",
      "  [0.16700043 0.81417469 0.45600404 0.78627084]]\n",
      "\n",
      " [[0.45617148 0.88539758 0.46453519 0.23573944]\n",
      "  [0.20859856 0.24148752 0.92052159 0.89974893]\n",
      "  [0.3732446  0.68933972 0.25029976 0.23328349]\n",
      "  [0.0330443  0.19215522 0.10869702 0.66119546]]]\n"
     ]
    }
   ],
   "source": [
    "y, z = np.vsplit(x, 2)\n",
    "print(y, z)"
   ]
  },
  {
   "cell_type": "code",
   "execution_count": 43,
   "metadata": {},
   "outputs": [
    {
     "name": "stdout",
     "output_type": "stream",
     "text": [
      "[[ 0  1  2  3]\n",
      " [ 4  5  6  7]\n",
      " [ 8  9 10 11]\n",
      " [12 13 14 15]]\n"
     ]
    }
   ],
   "source": [
    "x = np.arange(16).reshape(4, 4)\n",
    "print(x)"
   ]
  },
  {
   "cell_type": "code",
   "execution_count": 45,
   "metadata": {},
   "outputs": [
    {
     "name": "stdout",
     "output_type": "stream",
     "text": [
      "[[ 3  2  1  0]\n",
      " [ 7  6  5  4]\n",
      " [11 10  9  8]\n",
      " [15 14 13 12]]\n"
     ]
    }
   ],
   "source": [
    "y = np.flip(x, axis = -1)\n",
    "print(y)"
   ]
  },
  {
   "cell_type": "code",
   "execution_count": 46,
   "metadata": {},
   "outputs": [
    {
     "name": "stdout",
     "output_type": "stream",
     "text": [
      "[[12 13 14 15]\n",
      " [ 8  9 10 11]\n",
      " [ 4  5  6  7]\n",
      " [ 0  1  2  3]]\n"
     ]
    }
   ],
   "source": [
    "y = np.flip(x, axis = 0)\n",
    "print(y)"
   ]
  },
  {
   "cell_type": "code",
   "execution_count": 48,
   "metadata": {},
   "outputs": [
    {
     "name": "stdout",
     "output_type": "stream",
     "text": [
      "[[ 3  2  1  0]\n",
      " [ 7  6  5  4]\n",
      " [11 10  9  8]\n",
      " [15 14 13 12]]\n"
     ]
    }
   ],
   "source": [
    "y = np.flip(x, axis = 1)\n",
    "print(y)"
   ]
  },
  {
   "cell_type": "code",
   "execution_count": 50,
   "metadata": {},
   "outputs": [
    {
     "name": "stdout",
     "output_type": "stream",
     "text": [
      "[[ 0  1  2  3]\n",
      " [ 4  5  6  7]\n",
      " [ 8  9 10 11]\n",
      " [12 13 14 15]]\n",
      "[[ 3  2  1  0]\n",
      " [ 7  6  5  4]\n",
      " [11 10  9  8]\n",
      " [15 14 13 12]]\n"
     ]
    }
   ],
   "source": [
    "y = np.fliplr(x)\n",
    "print(x)\n",
    "print(y)"
   ]
  },
  {
   "cell_type": "code",
   "execution_count": 52,
   "metadata": {},
   "outputs": [
    {
     "name": "stdout",
     "output_type": "stream",
     "text": [
      "[[ 0  1  2  3]\n",
      " [ 4  5  6  7]\n",
      " [ 8  9 10 11]\n",
      " [12 13 14 15]]\n",
      "[[12 13 14 15]\n",
      " [ 8  9 10 11]\n",
      " [ 4  5  6  7]\n",
      " [ 0  1  2  3]]\n"
     ]
    }
   ],
   "source": [
    "y = np.flipud(x)\n",
    "print(x)\n",
    "print(y)"
   ]
  },
  {
   "cell_type": "code",
   "execution_count": 53,
   "metadata": {},
   "outputs": [
    {
     "name": "stdout",
     "output_type": "stream",
     "text": [
      "[[ 8  9 10 11]\n",
      " [12 13 14 15]\n",
      " [ 0  1  2  3]\n",
      " [ 4  5  6  7]]\n"
     ]
    }
   ],
   "source": [
    "y = np.roll(x, 8)\n",
    "print(y)"
   ]
  },
  {
   "cell_type": "code",
   "execution_count": 54,
   "metadata": {},
   "outputs": [
    {
     "name": "stdout",
     "output_type": "stream",
     "text": [
      "[[ 3  7 11 15]\n",
      " [ 2  6 10 14]\n",
      " [ 1  5  9 13]\n",
      " [ 0  4  8 12]]\n"
     ]
    }
   ],
   "source": [
    "y = np.rot90(x)\n",
    "print(y)"
   ]
  },
  {
   "cell_type": "code",
   "execution_count": null,
   "metadata": {},
   "outputs": [],
   "source": []
  }
 ],
 "metadata": {
  "kernelspec": {
   "display_name": "Python 3",
   "language": "python",
   "name": "python3"
  },
  "language_info": {
   "codemirror_mode": {
    "name": "ipython",
    "version": 3
   },
   "file_extension": ".py",
   "mimetype": "text/x-python",
   "name": "python",
   "nbconvert_exporter": "python",
   "pygments_lexer": "ipython3",
   "version": "3.7.3"
  }
 },
 "nbformat": 4,
 "nbformat_minor": 2
}
