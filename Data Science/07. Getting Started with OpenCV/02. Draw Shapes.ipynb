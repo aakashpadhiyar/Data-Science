{
 "cells": [
  {
   "cell_type": "code",
   "execution_count": 1,
   "metadata": {},
   "outputs": [],
   "source": [
    "import cv2 \n",
    "import numpy as np"
   ]
  },
  {
   "cell_type": "code",
   "execution_count": null,
   "metadata": {},
   "outputs": [],
   "source": [
    "img1 = np.zeros((512, 512, 3), np.uint8)\n",
    "\n",
    "cv2.line(img1, (0, 99), (99, 0), (255, 0, 0), 2)\n",
    "\n",
    "cv2.rectangle(img1, (100, 60), (200, 170), (0, 255, 0), 2)\n",
    "\n",
    "cv2.circle(img1, (60, 60), 50, (0, 0, 255), -1)\n",
    "\n",
    "cv2.ellipse(img1, (160, 260), (50, 20), 0, 0, 360, (127, 127, 127), -1)\n",
    "\n",
    "points = np.array([[80,2], [125, 0], [179, 0], [230, 5], [30, 50]], np.int32)\n",
    "\n",
    "points = points.reshape((-1, 1,2))\n",
    "\n",
    "cv2.polylines(img1, [points], True, (0, 255, 255))\n",
    "\n",
    "text1 = 'Test Text'\n",
    "cv2.putText(img1, text1, (100, 100), cv2.FONT_HERSHEY_SIMPLEX, 5, (255, 255, 0))\n",
    "\n",
    "cv2.imshow('Shapes', img1)\n",
    "cv2.waitKey(0)\n",
    "cv2.destroyWindow('Shape')"
   ]
  }
 ],
 "metadata": {
  "kernelspec": {
   "display_name": "Python 3",
   "language": "python",
   "name": "python3"
  },
  "language_info": {
   "codemirror_mode": {
    "name": "ipython",
    "version": 3
   },
   "file_extension": ".py",
   "mimetype": "text/x-python",
   "name": "python",
   "nbconvert_exporter": "python",
   "pygments_lexer": "ipython3",
   "version": "3.7.4"
  }
 },
 "nbformat": 4,
 "nbformat_minor": 2
}
