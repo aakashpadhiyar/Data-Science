{
 "cells": [
  {
   "cell_type": "code",
   "execution_count": 2,
   "metadata": {},
   "outputs": [],
   "source": [
    "import numpy as np"
   ]
  },
  {
   "cell_type": "code",
   "execution_count": 27,
   "metadata": {},
   "outputs": [
    {
     "name": "stdout",
     "output_type": "stream",
     "text": [
      "[2 8 3 6 5 7 5 4 1 0]\n"
     ]
    }
   ],
   "source": [
    "x = np.random.randint( low = 0, high = 9, size = 10 )\n",
    "print(x)"
   ]
  },
  {
   "cell_type": "code",
   "execution_count": 31,
   "metadata": {},
   "outputs": [
    {
     "name": "stdout",
     "output_type": "stream",
     "text": [
      "[[0.77250126 0.20794592 0.6801029 ]\n",
      " [0.63181779 0.25392821 0.13746867]\n",
      " [0.02063609 0.32654585 0.17017103]]\n"
     ]
    }
   ],
   "source": [
    "x = np.random.rand(3, 3)\n",
    "print(x)"
   ]
  },
  {
   "cell_type": "code",
   "execution_count": 34,
   "metadata": {},
   "outputs": [
    {
     "name": "stdout",
     "output_type": "stream",
     "text": [
      "[[[0.83592123 0.03933277 0.93757072]\n",
      "  [0.35075004 0.78828192 0.7451579 ]\n",
      "  [0.8592747  0.03141973 0.42061357]]\n",
      "\n",
      " [[0.60233758 0.63601622 0.10772004]\n",
      "  [0.32156218 0.30767268 0.59066566]\n",
      "  [0.00706494 0.37782507 0.91632212]]\n",
      "\n",
      " [[0.96389384 0.6717538  0.98662134]\n",
      "  [0.52997307 0.43343394 0.97591738]\n",
      "  [0.63851535 0.51657831 0.10291175]]]\n"
     ]
    }
   ],
   "source": [
    "x = np.random.rand(3, 3, 3)\n",
    "print(x)"
   ]
  },
  {
   "cell_type": "code",
   "execution_count": 37,
   "metadata": {},
   "outputs": [
    {
     "name": "stdout",
     "output_type": "stream",
     "text": [
      "[[[[[0.51321758 0.40033218]\n",
      "    [0.49060533 0.09418687]]\n",
      "\n",
      "   [[0.86193967 0.10230993]\n",
      "    [0.01554703 0.16938641]]]\n",
      "\n",
      "\n",
      "  [[[0.03473921 0.58388169]\n",
      "    [0.57920118 0.16359348]]\n",
      "\n",
      "   [[0.87590827 0.71369479]\n",
      "    [0.1380269  0.46483774]]]]\n",
      "\n",
      "\n",
      "\n",
      " [[[[0.69032388 0.63247566]\n",
      "    [0.25639373 0.66041087]]\n",
      "\n",
      "   [[0.51624013 0.33946233]\n",
      "    [0.73937933 0.56549081]]]\n",
      "\n",
      "\n",
      "  [[[0.76391727 0.83397219]\n",
      "    [0.155781   0.65222101]]\n",
      "\n",
      "   [[0.14848184 0.16027339]\n",
      "    [0.37943349 0.08090765]]]]]\n"
     ]
    }
   ],
   "source": [
    "x = np.random.rand(2, 2, 2, 2, 2)\n",
    "print(x)"
   ]
  },
  {
   "cell_type": "code",
   "execution_count": null,
   "metadata": {},
   "outputs": [],
   "source": []
  }
 ],
 "metadata": {
  "kernelspec": {
   "display_name": "Python 3",
   "language": "python",
   "name": "python3"
  },
  "language_info": {
   "codemirror_mode": {
    "name": "ipython",
    "version": 3
   },
   "file_extension": ".py",
   "mimetype": "text/x-python",
   "name": "python",
   "nbconvert_exporter": "python",
   "pygments_lexer": "ipython3",
   "version": "3.7.3"
  }
 },
 "nbformat": 4,
 "nbformat_minor": 2
}
